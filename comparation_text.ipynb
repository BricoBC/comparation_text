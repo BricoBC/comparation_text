{
  "nbformat": 4,
  "nbformat_minor": 0,
  "metadata": {
    "colab": {
      "provenance": [],
      "authorship_tag": "ABX9TyPC32OM47flP1IpDxDXlDd9",
      "include_colab_link": true
    },
    "kernelspec": {
      "name": "python3",
      "display_name": "Python 3"
    },
    "language_info": {
      "name": "python"
    }
  },
  "cells": [
    {
      "cell_type": "markdown",
      "metadata": {
        "id": "view-in-github",
        "colab_type": "text"
      },
      "source": [
        "<a href=\"https://colab.research.google.com/github/BricoBC/comparation_text/blob/main/comparation_text.ipynb\" target=\"_parent\"><img src=\"https://colab.research.google.com/assets/colab-badge.svg\" alt=\"Open In Colab\"/></a>"
      ]
    },
    {
      "cell_type": "markdown",
      "source": [
        "***EL USO DE ESTE SCRIPT ES PARA COMPARAR DOS CADENAS DE TEXTOS DEMASIADAS LARGAS TENIENDO DIFERENTE ESTRUCTURA AÚN CON ESPACIOS AL PRINCIPIO O AL FINAL DEL TEXTO.***"
      ],
      "metadata": {
        "id": "PVUqXFCMdmMQ"
      }
    },
    {
      "cell_type": "markdown",
      "source": [
        "# Pasos\n",
        "1. Se abre la terminal de PowerShell en windows.\n",
        "2. Se reconoce la ruta completa del archivo que quieres diagnosticar.\n",
        "3. Se copia la ruta.\n",
        "4. Se pega la ruta después del comando Get-FileHash en power shell.\n",
        "**Después de la ruta se escibre el archivo con su extensión que se desea diagnositcar**\n",
        "\n",
        "## Ejemplo:\n",
        "Get-FileHash D:\\Documentos\\ISOS\\ubuntu-22.04.1-desktop-amd64"
      ],
      "metadata": {
        "id": "Q4GVxAIub14Y"
      }
    },
    {
      "cell_type": "code",
      "execution_count": null,
      "metadata": {
        "colab": {
          "base_uri": "https://localhost:8080/"
        },
        "id": "0QyaVxhuLZIv",
        "outputId": "e6de3222-696c-40d0-c19c-f501b37de450"
      },
      "outputs": [
        {
          "output_type": "stream",
          "name": "stdout",
          "text": [
            "Primer texto a comparar:   C396E956A9F52C418397867D1EA5C0CF1A99A49DCF648B086D2FB762330CC88D\n",
            "Segundo texto a comparar: c396e956a9f52c418397867d1ea5c0cf1a99a49dcf648b086d2fb762330cc88d \n",
            "  c396e956a9f52c418397867d1ea5c0cf1a99a49dcf648b086d2fb762330cc88d\n",
            "c396e956a9f52c418397867d1ea5c0cf1a99a49dcf648b086d2fb762330cc88d \n"
          ]
        },
        {
          "output_type": "execute_result",
          "data": {
            "text/plain": [
              "True"
            ]
          },
          "metadata": {},
          "execution_count": 10
        }
      ],
      "source": [
        "txt_1 = input(\"Primer texto a comparar: \").lower()\n",
        "txt_2 = input(\"Segundo texto a comparar: \").lower()\n",
        "True if txt_1.strip() == txt_2.strip() else False"
      ]
    }
  ]
}